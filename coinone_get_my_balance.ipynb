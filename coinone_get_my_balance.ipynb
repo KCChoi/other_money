{
 "cells": [
  {
   "cell_type": "code",
   "execution_count": 1,
   "metadata": {
    "collapsed": true
   },
   "outputs": [],
   "source": [
    "import os\n",
    "import base64\n",
    "import simplejson as json\n",
    "import hashlib\n",
    "import hmac\n",
    "import httplib2\n",
    "import time\n",
    "\n",
    "ACCESS_TOKEN = os.getenv(\"COINONE_ACCESS_TOKEN\")\n",
    "SECRET_KEY = os.environ.get(\"COINONE_SECRET_KEY\")"
   ]
  },
  {
   "cell_type": "code",
   "execution_count": 2,
   "metadata": {
    "collapsed": true
   },
   "outputs": [],
   "source": [
    "URL = 'https://api.coinone.co.kr/v2/account/balance/'\n",
    "PAYLOAD = {\n",
    "  \"access_token\": ACCESS_TOKEN,\n",
    "}\n",
    "\n",
    "def get_encoded_payload(payload):\n",
    "    payload[u'nonce'] = int(time.time()*1000)\n",
    "    \n",
    "    dumped_json = json.dumps(payload)\n",
    "    encoded_json = base64.b64encode(bytes(dumped_json, \"utf-8\"))\n",
    "    return encoded_json\n",
    "\n",
    "def get_signature(encoded_payload, secret_key):\n",
    "    signature = hmac.new(secret_key.encode('utf-8'), encoded_payload, hashlib.sha512);\n",
    "    return signature.hexdigest()\n",
    "\n",
    "def get_response(url, payload):\n",
    "    encoded_payload = get_encoded_payload(payload)\n",
    "    headers = {\n",
    "        'Content-type': 'application/json',\n",
    "        'X-COINONE-PAYLOAD': encoded_payload,\n",
    "        'X-COINONE-SIGNATURE': get_signature(encoded_payload, SECRET_KEY)\n",
    "    }\n",
    "    http = httplib2.Http()\n",
    "    response, content = http.request(URL, 'POST', headers=headers, body=encoded_payload)\n",
    "    return content\n",
    "\n",
    "def get_result():\n",
    "    content = get_response(URL, PAYLOAD)\n",
    "    content = json.loads(content)\n",
    "\n",
    "    return content"
   ]
  },
  {
   "cell_type": "code",
   "execution_count": 3,
   "metadata": {},
   "outputs": [
    {
     "data": {
      "text/plain": [
       "{'errorCode': '12', 'result': 'error'}"
      ]
     },
     "execution_count": 3,
     "metadata": {},
     "output_type": "execute_result"
    }
   ],
   "source": [
    "get_result()"
   ]
  },
  {
   "cell_type": "code",
   "execution_count": null,
   "metadata": {
    "collapsed": true
   },
   "outputs": [],
   "source": []
  },
  {
   "cell_type": "code",
   "execution_count": null,
   "metadata": {
    "collapsed": true
   },
   "outputs": [],
   "source": []
  }
 ],
 "metadata": {
  "kernelspec": {
   "display_name": "Python 3",
   "language": "python",
   "name": "python3"
  },
  "language_info": {
   "codemirror_mode": {
    "name": "ipython",
    "version": 3
   },
   "file_extension": ".py",
   "mimetype": "text/x-python",
   "name": "python",
   "nbconvert_exporter": "python",
   "pygments_lexer": "ipython3",
   "version": "3.5.0"
  }
 },
 "nbformat": 4,
 "nbformat_minor": 2
}

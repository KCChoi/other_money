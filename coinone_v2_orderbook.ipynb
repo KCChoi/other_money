{
 "cells": [
  {
   "cell_type": "code",
   "execution_count": 1,
   "metadata": {
    "collapsed": true
   },
   "outputs": [],
   "source": [
    "import os\n",
    "import requests\n",
    "import pandas as pd\n",
    "import base64\n",
    "import simplejson as json\n",
    "import hashlib\n",
    "import hmac\n",
    "import time\n",
    "\n",
    "from pprint import pprint"
   ]
  },
  {
   "cell_type": "code",
   "execution_count": 2,
   "metadata": {
    "collapsed": true
   },
   "outputs": [],
   "source": [
    "URL = \"https://api.coinone.co.kr/\"\n",
    "URL_CURRENCY = URL +\"currency/\"\n",
    "URL_ORDERBOOK = URL +\"orderbook/\""
   ]
  },
  {
   "cell_type": "code",
   "execution_count": 3,
   "metadata": {
    "collapsed": true
   },
   "outputs": [],
   "source": [
    "currency = requests.get(URL_CURRENCY)"
   ]
  },
  {
   "cell_type": "code",
   "execution_count": 4,
   "metadata": {},
   "outputs": [
    {
     "data": {
      "text/plain": [
       "{'currency': '1146.58',\n",
       " 'currencyType': 'USD',\n",
       " 'errorCode': '0',\n",
       " 'result': 'success',\n",
       " 'source': 'http://query.yahooapis.com/v1/public/yql?q=select%20*%20from%20yahoo.finance.xchange%20where%20pair%20in%20(%22USDKRW%22)&format=json&env=store://datatables.org/alltableswithkeys&callback='}"
      ]
     },
     "execution_count": 4,
     "metadata": {},
     "output_type": "execute_result"
    }
   ],
   "source": [
    "currency.json()"
   ]
  },
  {
   "cell_type": "code",
   "execution_count": 5,
   "metadata": {
    "collapsed": true
   },
   "outputs": [],
   "source": [
    "class OrderBook:\n",
    "    \"\"\"\n",
    "    currency: \"btc\", \"eth\", \"etc\", 'xrp\"\n",
    "    화폐마다 주문가격과 주문량을 살펴보기 위해 클래스로 선언\n",
    "    \"ask\"는 \"매도\", \"bid\"는 \"매수\"\n",
    "    \"\"\"\n",
    "    \n",
    "    def __init__(self, currency):\n",
    "        if(currency in [\"btc\",\"eth\",\"etc\",\"xrp\"]):\n",
    "            self.currency = currency\n",
    "            \n",
    "        else:\n",
    "            print(\"Default currency is BTC\")\n",
    "            self.currency = \"btc\"\n",
    "        \n",
    "    def get_order_book(self, unit):\n",
    "        _params = {\"currency\":self.currency}\n",
    "        response = requests.get(URL_ORDERBOOK, params=_params)\n",
    "        contents = response.json()\n",
    "        ask = contents[\"ask\"]\n",
    "        bid = contents[\"bid\"]\n",
    "        \n",
    "        return {\"ask\":ask[:unit], \"bid\":bid[:unit]}"
   ]
  },
  {
   "cell_type": "code",
   "execution_count": 6,
   "metadata": {
    "collapsed": true
   },
   "outputs": [],
   "source": [
    "btc_order = OrderBook(\"btc\")\n",
    "eth_order = OrderBook(\"eth\")"
   ]
  },
  {
   "cell_type": "code",
   "execution_count": 7,
   "metadata": {},
   "outputs": [
    {
     "data": {
      "text/plain": [
       "{'ask': [{'price': '336050', 'qty': '11.9856'},\n",
       "  {'price': '336400', 'qty': '84.0861'},\n",
       "  {'price': '336450', 'qty': '15.9885'}],\n",
       " 'bid': [{'price': '335850', 'qty': '10.4000'},\n",
       "  {'price': '335800', 'qty': '10.4000'},\n",
       "  {'price': '335750', 'qty': '3.8487'}]}"
      ]
     },
     "execution_count": 7,
     "metadata": {},
     "output_type": "execute_result"
    }
   ],
   "source": [
    "eth_order.get_order_book(3)"
   ]
  }
 ],
 "metadata": {
  "kernelspec": {
   "display_name": "Python 3",
   "language": "python",
   "name": "python3"
  },
  "language_info": {
   "codemirror_mode": {
    "name": "ipython",
    "version": 3
   },
   "file_extension": ".py",
   "mimetype": "text/x-python",
   "name": "python",
   "nbconvert_exporter": "python",
   "pygments_lexer": "ipython3",
   "version": "3.5.0"
  }
 },
 "nbformat": 4,
 "nbformat_minor": 2
}
